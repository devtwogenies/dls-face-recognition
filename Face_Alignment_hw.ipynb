{
  "cells": [
    {
      "cell_type": "markdown",
      "metadata": {
        "id": "ek2460kgf0E7"
      },
      "source": [
        "#Hourglass блок"
      ]
    },
    {
      "cell_type": "markdown",
      "metadata": {
        "id": "MPeTbCD7f8Wa"
      },
      "source": [
        "#Stacked Hourglass"
      ]
    },
    {
      "cell_type": "markdown",
      "metadata": {
        "id": "j4JG5yadgI2F"
      },
      "source": [
        "#Данные: Загрузка данных, подготовка датасета\n"
      ]
    },
    {
      "cell_type": "markdown",
      "metadata": {
        "id": "GpKz2v7tgU_e"
      },
      "source": [
        "#Модель: Подготовка и обучение"
      ]
    }
  ],
  "metadata": {
    "colab": {
      "provenance": []
    },
    "kernelspec": {
      "display_name": "Python 3",
      "name": "python3"
    },
    "language_info": {
      "name": "python"
    }
  },
  "nbformat": 4,
  "nbformat_minor": 0
}
